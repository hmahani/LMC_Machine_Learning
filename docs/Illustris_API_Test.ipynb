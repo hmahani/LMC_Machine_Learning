{
  "nbformat": 4,
  "nbformat_minor": 0,
  "metadata": {
    "colab": {
      "provenance": [],
      "authorship_tag": "ABX9TyN3sApr7Q8/R/1zn1EMFZXV",
      "include_colab_link": true
    },
    "kernelspec": {
      "name": "python3",
      "display_name": "Python 3"
    },
    "language_info": {
      "name": "python"
    }
  },
  "cells": [
    {
      "cell_type": "markdown",
      "metadata": {
        "id": "view-in-github",
        "colab_type": "text"
      },
      "source": [
        "<a href=\"https://colab.research.google.com/github/hmahani/LMC_Machine_Learning/blob/main/docs/Illustris_API_Test.ipynb\" target=\"_parent\"><img src=\"https://colab.research.google.com/assets/colab-badge.svg\" alt=\"Open In Colab\"/></a>"
      ]
    },
    {
      "cell_type": "code",
      "execution_count": 2,
      "metadata": {
        "id": "42qx9cS7dDIe"
      },
      "outputs": [],
      "source": [
        "import requests\n",
        "\n",
        "baseUrl = 'http://www.tng-project.org/api/'\n",
        "headers = {\"api-key\":\"7d62c13dd1ea8404196645db8755fd2a\"}"
      ]
    },
    {
      "cell_type": "code",
      "source": [
        "def get(path, params=None):\n",
        "    # make HTTP GET request to path\n",
        "    r = requests.get(path, params=params, headers=headers)\n",
        "\n",
        "    # raise exception if response code is not HTTP SUCCESS (200)\n",
        "    r.raise_for_status()\n",
        "\n",
        "    if r.headers['content-type'] == 'application/json':\n",
        "        return r.json() # parse json responses automatically\n",
        "    return r"
      ],
      "metadata": {
        "id": "JqtEgPpSdvh2"
      },
      "execution_count": 3,
      "outputs": []
    },
    {
      "cell_type": "code",
      "source": [
        " r = get(baseUrl)"
      ],
      "metadata": {
        "id": "XAOBf8iIdzIg"
      },
      "execution_count": 4,
      "outputs": []
    },
    {
      "cell_type": "code",
      "source": [
        "r.keys()\n"
      ],
      "metadata": {
        "colab": {
          "base_uri": "https://localhost:8080/"
        },
        "id": "pNceTNpcd4nC",
        "outputId": "bd2bb8ab-cd82-47cf-db97-cd1b357acc1d"
      },
      "execution_count": 6,
      "outputs": [
        {
          "output_type": "execute_result",
          "data": {
            "text/plain": [
              "dict_keys(['simulations'])"
            ]
          },
          "metadata": {},
          "execution_count": 6
        }
      ]
    },
    {
      "cell_type": "code",
      "source": [
        "len(r['simulations'])"
      ],
      "metadata": {
        "colab": {
          "base_uri": "https://localhost:8080/"
        },
        "id": "_g8QIYTNd-bw",
        "outputId": "00697fd0-302c-4165-b9b0-c4ecae5142e2"
      },
      "execution_count": 7,
      "outputs": [
        {
          "output_type": "execute_result",
          "data": {
            "text/plain": [
              "65"
            ]
          },
          "metadata": {},
          "execution_count": 7
        }
      ]
    },
    {
      "cell_type": "code",
      "source": [
        "r['simulations'][0]"
      ],
      "metadata": {
        "colab": {
          "base_uri": "https://localhost:8080/"
        },
        "id": "TMdcu1kfeYGd",
        "outputId": "cd6ac305-ba87-47fa-806e-1eb44282bd31"
      },
      "execution_count": 8,
      "outputs": [
        {
          "output_type": "execute_result",
          "data": {
            "text/plain": [
              "{'name': 'Illustris-1',\n",
              " 'num_snapshots': 134,\n",
              " 'url': 'http://www.tng-project.org/api/Illustris-1/'}"
            ]
          },
          "metadata": {},
          "execution_count": 8
        }
      ]
    },
    {
      "cell_type": "code",
      "source": [
        "names = [sim['name'] for sim in r['simulations']]"
      ],
      "metadata": {
        "id": "WQKM3404eY8d"
      },
      "execution_count": 9,
      "outputs": []
    },
    {
      "cell_type": "code",
      "source": [
        "names"
      ],
      "metadata": {
        "colab": {
          "base_uri": "https://localhost:8080/"
        },
        "id": "LRKHlYR_eefV",
        "outputId": "934e0934-5bc0-48ba-90e6-40a5a291d124"
      },
      "execution_count": 11,
      "outputs": [
        {
          "output_type": "execute_result",
          "data": {
            "text/plain": [
              "['Illustris-1',\n",
              " 'Illustris-1-Dark',\n",
              " 'Illustris-2',\n",
              " 'Illustris-2-Dark',\n",
              " 'Illustris-3',\n",
              " 'Illustris-3-Dark',\n",
              " 'TNG100-1',\n",
              " 'TNG100-1-Dark',\n",
              " 'TNG100-2',\n",
              " 'TNG100-2-Dark',\n",
              " 'TNG100-3',\n",
              " 'TNG100-3-Dark',\n",
              " 'TNG300-3',\n",
              " 'TNG300-2-Dark',\n",
              " 'TNG300-2',\n",
              " 'TNG300-1-Dark',\n",
              " 'TNG300-1',\n",
              " 'TNG300-3-Dark',\n",
              " 'TNG50-1',\n",
              " 'TNG50-1-Dark',\n",
              " 'TNG50-2',\n",
              " 'TNG50-2-Dark',\n",
              " 'TNG50-3',\n",
              " 'TNG50-3-Dark',\n",
              " 'TNG50-4',\n",
              " 'TNG50-4-Dark',\n",
              " 'Illustris-1-Subbox0',\n",
              " 'Illustris-1-Subbox1',\n",
              " 'Illustris-1-Subbox2',\n",
              " 'Illustris-1-Subbox3',\n",
              " 'Illustris-2-Subbox0',\n",
              " 'Illustris-2-Subbox1',\n",
              " 'Illustris-2-Subbox2',\n",
              " 'Illustris-2-Subbox3',\n",
              " 'Illustris-3-Subbox0',\n",
              " 'Illustris-3-Subbox1',\n",
              " 'Illustris-3-Subbox2',\n",
              " 'Illustris-3-Subbox3',\n",
              " 'TNG100-1-Subbox0',\n",
              " 'TNG100-1-Subbox1',\n",
              " 'TNG100-2-Subbox0',\n",
              " 'TNG100-2-Subbox1',\n",
              " 'TNG100-3-Subbox0',\n",
              " 'TNG100-3-Subbox1',\n",
              " 'TNG300-3-Subbox1',\n",
              " 'TNG300-3-Subbox2',\n",
              " 'TNG300-3-Subbox0',\n",
              " 'TNG300-2-Subbox1',\n",
              " 'TNG300-2-Subbox2',\n",
              " 'TNG300-2-Subbox0',\n",
              " 'TNG300-1-Subbox1',\n",
              " 'TNG300-1-Subbox2',\n",
              " 'TNG300-1-Subbox0',\n",
              " 'TNG50-1-Subbox0',\n",
              " 'TNG50-1-Subbox2',\n",
              " 'TNG50-1-Subbox1',\n",
              " 'TNG50-2-Subbox0',\n",
              " 'TNG50-2-Subbox2',\n",
              " 'TNG50-2-Subbox1',\n",
              " 'TNG50-3-Subbox0',\n",
              " 'TNG50-3-Subbox2',\n",
              " 'TNG50-3-Subbox1',\n",
              " 'TNG50-4-Subbox0',\n",
              " 'TNG50-4-Subbox2',\n",
              " 'TNG50-4-Subbox1']"
            ]
          },
          "metadata": {},
          "execution_count": 11
        }
      ]
    },
    {
      "cell_type": "code",
      "source": [
        "i = names.index('Illustris-3')\n",
        "i"
      ],
      "metadata": {
        "colab": {
          "base_uri": "https://localhost:8080/"
        },
        "id": "2amSxJz1egxW",
        "outputId": "b3838aba-7edc-41ee-f248-e11f5c50497d"
      },
      "execution_count": 12,
      "outputs": [
        {
          "output_type": "execute_result",
          "data": {
            "text/plain": [
              "4"
            ]
          },
          "metadata": {},
          "execution_count": 12
        }
      ]
    },
    {
      "cell_type": "code",
      "source": [
        "sim = get( r['simulations'][i]['url'] )\n",
        "sim.keys()"
      ],
      "metadata": {
        "colab": {
          "base_uri": "https://localhost:8080/"
        },
        "id": "DX9ZhZGlkQbW",
        "outputId": "1e99066e-b001-4a3b-ea05-f8f011e1e686"
      },
      "execution_count": 13,
      "outputs": [
        {
          "output_type": "execute_result",
          "data": {
            "text/plain": [
              "dict_keys(['name', 'description', 'name_alt', 'boxsize', 'z_start', 'z_final', 'cosmology', 'omega_0', 'omega_L', 'omega_B', 'hubble', 'physics_model', 'has_cooling', 'has_starformation', 'has_winds', 'has_blackholes', 'mass_gas', 'mass_dm', 'softening_dm_comoving', 'softening_stars_comoving', 'softening_blackholes_comoving', 'softening_gas_comoving', 'softening_dm_max_phys', 'softening_stars_max_phys', 'softening_blackholes_max_phys', 'softening_gas_max_phys', 'softening_gas_factor', 'softening_gas_comoving_min', 'num_dm', 'num_tr_mc', 'num_tr_vel', 'longids', 'is_uniform', 'is_zoom', 'is_subbox', 'num_files_snapshot', 'num_files_groupcat', 'num_files_rockstar', 'num_files_lhalotree', 'num_files_sublink', 'num_files_ctrees', 'filesize_lhalotree', 'filesize_sublink', 'filesize_ctrees', 'filesize_ics', 'filesize_simulation', 'has_fof', 'has_subfind', 'has_rockstar', 'has_lhalotree', 'has_sublink', 'has_ctrees', 'permission_required', 'num_snapshots', 'url', 'parent_simulation', 'child_simulations', 'files', 'checksums', 'snapshots'])"
            ]
          },
          "metadata": {},
          "execution_count": 13
        }
      ]
    },
    {
      "cell_type": "code",
      "source": [
        "sim['num_dm']"
      ],
      "metadata": {
        "colab": {
          "base_uri": "https://localhost:8080/"
        },
        "id": "9T1VmUxGkYHQ",
        "outputId": "851a5540-f8d8-4497-a035-9fe682d5e96d"
      },
      "execution_count": 14,
      "outputs": [
        {
          "output_type": "execute_result",
          "data": {
            "text/plain": [
              "94196375"
            ]
          },
          "metadata": {},
          "execution_count": 14
        }
      ]
    },
    {
      "cell_type": "code",
      "source": [],
      "metadata": {
        "id": "FJJVyiJikchH"
      },
      "execution_count": null,
      "outputs": []
    }
  ]
}